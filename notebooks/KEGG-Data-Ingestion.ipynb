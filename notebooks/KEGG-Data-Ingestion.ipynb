{
 "cells": [
  {
   "cell_type": "code",
   "execution_count": 108,
   "metadata": {},
   "outputs": [],
   "source": [
    "%reset -f"
   ]
  },
  {
   "cell_type": "markdown",
   "metadata": {},
   "source": [
    "# Implementing KEGG API\n",
    "\n",
    "1. REST: https://www.kegg.jp/kegg/rest/\n",
    "2. API: https://www.kegg.jp/kegg/rest/keggapi.html\n",
    "3. DB entry: https://www.kegg.jp/kegg/docs/dbentry.html\n",
    "4. Weblinks: https://www.kegg.jp/kegg/docs/weblink.html\n",
    "\n",
    "\n",
    "## Libraries Installed\n",
    "\n",
    "1. conda install -c conda-forge notebook\n",
    "2. conda install -c anaconda urllib3 \n",
    "3. conda install pandas\n"
   ]
  },
  {
   "cell_type": "markdown",
   "metadata": {},
   "source": [
    "### Info:\n",
    "\n",
    "    KEGG:\n",
    "    kegg             Kyoto Encyclopedia of Genes and Genomes\n",
    "    kegg             Release 96.0+/12-14, Dec 20\n",
    "                     Kanehisa Laboratories\n",
    "                     pathway     758,081 entries\n",
    "                     brite       264,435 entries\n",
    "                     module          512 entries\n",
    "                     orthology    23,916 entries\n",
    "                     genome        7,256 entries\n",
    "                     genes     33,082,417 entries\n",
    "                     compound     18,749 entries\n",
    "                     glycan       11,042 entries\n",
    "                     reaction     11,467 entries\n",
    "                     rclass        3,168 entries\n",
    "                     enzyme        7,787 entries\n",
    "                     network       1,442 entries\n",
    "                     variant         441 entries\n",
    "                     disease       2,456 entries\n",
    "                     drug         11,370 entries\n",
    "                     dgroup        2,298 entries\n",
    "                     environ         864 entries\n",
    "    -----------------------------------------------------------------------------\n",
    "\n",
    "    pathway          KEGG Pathway Database\n",
    "    path             Release 96.0+/12-15, Dec 20\n",
    "                     Kanehisa Laboratories\n",
    "                     758,081 entries\n",
    "\n",
    "    linked db        module\n",
    "                     ko\n",
    "                     genome\n",
    "                     <org>\n",
    "                     compound\n",
    "                     glycan\n",
    "                     reaction\n",
    "                     rclass\n",
    "                     enzyme\n",
    "                     network\n",
    "                     disease\n",
    "                     drug\n",
    "                     pubmed\n",
    "                     \n",
    "    -----------------------------------------------------------------------------                     \n",
    "                     \n",
    "    compound         KEGG Compound Database\n",
    "    cpd              Release 96.0+/12-15, Dec 20\n",
    "                     Kanehisa Laboratories\n",
    "                     18,749 entries\n",
    "\n",
    "    linked db        pathway\n",
    "                     brite\n",
    "                     module\n",
    "                     genome\n",
    "                     glycan\n",
    "                     reaction\n",
    "                     enzyme\n",
    "                     network\n",
    "                     disease\n",
    "                     drug\n",
    "                     environ\n",
    "                     pubchem\n",
    "                     chebi\n",
    "                     \n",
    "    ----------------------------------------------------------------------------- \n",
    "\n",
    "    reaction         KEGG Reaction Database\n",
    "    rn               Release 96.0+/12-15, Dec 20\n",
    "                     Kanehisa Laboratories\n",
    "                     11,467 entries\n",
    "\n",
    "    linked db        pathway\n",
    "                     brite\n",
    "                     module\n",
    "                     ko\n",
    "                     compound\n",
    "                     glycan\n",
    "                     rclass\n",
    "                     enzyme\n"
   ]
  },
  {
   "cell_type": "code",
   "execution_count": 133,
   "metadata": {},
   "outputs": [],
   "source": [
    "import urllib3\n",
    "import io\n",
    "import pandas as pd"
   ]
  },
  {
   "cell_type": "code",
   "execution_count": 172,
   "metadata": {},
   "outputs": [],
   "source": [
    "def parseResponse(cols, *args):\n",
    "    keggUrl = 'http://rest.kegg.jp/'\n",
    "    \n",
    "    for arg in args:\n",
    "        keggUrl += arg+'/'\n",
    "\n",
    "    df = pd.DataFrame(columns=cols)\n",
    "    http = urllib3.PoolManager()\n",
    "    pathwayResponse = http.request('GET', keggUrl, preload_content=False)\n",
    "    pathwayResponse.auto_close=False\n",
    "\n",
    "    for line in io.TextIOWrapper(pathwayResponse):\n",
    "        df = df.append(pd.Series(line.strip('\\n').split('\\t'),index = df.columns), ignore_index=True)\n",
    "    return df\n"
   ]
  },
  {
   "cell_type": "markdown",
   "metadata": {},
   "source": [
    "## LIST"
   ]
  },
  {
   "cell_type": "code",
   "execution_count": 178,
   "metadata": {},
   "outputs": [
    {
     "name": "stdout",
     "output_type": "stream",
     "text": [
      "Pathways Count: 541\n"
     ]
    },
    {
     "data": {
      "text/html": [
       "<div>\n",
       "<style scoped>\n",
       "    .dataframe tbody tr th:only-of-type {\n",
       "        vertical-align: middle;\n",
       "    }\n",
       "\n",
       "    .dataframe tbody tr th {\n",
       "        vertical-align: top;\n",
       "    }\n",
       "\n",
       "    .dataframe thead th {\n",
       "        text-align: right;\n",
       "    }\n",
       "</style>\n",
       "<table border=\"1\" class=\"dataframe\">\n",
       "  <thead>\n",
       "    <tr style=\"text-align: right;\">\n",
       "      <th></th>\n",
       "      <th>pathwayId</th>\n",
       "      <th>pathwayDesc</th>\n",
       "    </tr>\n",
       "  </thead>\n",
       "  <tbody>\n",
       "    <tr>\n",
       "      <th>0</th>\n",
       "      <td>path:map00010</td>\n",
       "      <td>Glycolysis / Gluconeogenesis</td>\n",
       "    </tr>\n",
       "    <tr>\n",
       "      <th>1</th>\n",
       "      <td>path:map00020</td>\n",
       "      <td>Citrate cycle (TCA cycle)</td>\n",
       "    </tr>\n",
       "    <tr>\n",
       "      <th>2</th>\n",
       "      <td>path:map00030</td>\n",
       "      <td>Pentose phosphate pathway</td>\n",
       "    </tr>\n",
       "    <tr>\n",
       "      <th>3</th>\n",
       "      <td>path:map00040</td>\n",
       "      <td>Pentose and glucuronate interconversions</td>\n",
       "    </tr>\n",
       "    <tr>\n",
       "      <th>4</th>\n",
       "      <td>path:map00051</td>\n",
       "      <td>Fructose and mannose metabolism</td>\n",
       "    </tr>\n",
       "  </tbody>\n",
       "</table>\n",
       "</div>"
      ],
      "text/plain": [
       "       pathwayId                               pathwayDesc\n",
       "0  path:map00010              Glycolysis / Gluconeogenesis\n",
       "1  path:map00020                 Citrate cycle (TCA cycle)\n",
       "2  path:map00030                 Pentose phosphate pathway\n",
       "3  path:map00040  Pentose and glucuronate interconversions\n",
       "4  path:map00051           Fructose and mannose metabolism"
      ]
     },
     "execution_count": 178,
     "metadata": {},
     "output_type": "execute_result"
    }
   ],
   "source": [
    "# Pathway\n",
    "cols = ['pathwayId','pathwayDesc']\n",
    "pathwayDF = parseResponse(cols, 'list','pathway')\n",
    "print('Pathways Count: '+str(len(pathwayDF)))\n",
    "pathwayDF.to_csv('data/pathwayDF.tsv', sep='\\t', index=False)\n",
    "pathwayDF.head()"
   ]
  },
  {
   "cell_type": "code",
   "execution_count": 193,
   "metadata": {},
   "outputs": [
    {
     "name": "stdout",
     "output_type": "stream",
     "text": [
      "Compounds Count: 18749\n"
     ]
    },
    {
     "data": {
      "text/html": [
       "<div>\n",
       "<style scoped>\n",
       "    .dataframe tbody tr th:only-of-type {\n",
       "        vertical-align: middle;\n",
       "    }\n",
       "\n",
       "    .dataframe tbody tr th {\n",
       "        vertical-align: top;\n",
       "    }\n",
       "\n",
       "    .dataframe thead th {\n",
       "        text-align: right;\n",
       "    }\n",
       "</style>\n",
       "<table border=\"1\" class=\"dataframe\">\n",
       "  <thead>\n",
       "    <tr style=\"text-align: right;\">\n",
       "      <th></th>\n",
       "      <th>compoundId</th>\n",
       "      <th>compoundDesc</th>\n",
       "    </tr>\n",
       "  </thead>\n",
       "  <tbody>\n",
       "    <tr>\n",
       "      <th>0</th>\n",
       "      <td>cpd:C00001</td>\n",
       "      <td>H2O; Water</td>\n",
       "    </tr>\n",
       "    <tr>\n",
       "      <th>1</th>\n",
       "      <td>cpd:C00002</td>\n",
       "      <td>ATP; Adenosine 5'-triphosphate</td>\n",
       "    </tr>\n",
       "    <tr>\n",
       "      <th>2</th>\n",
       "      <td>cpd:C00003</td>\n",
       "      <td>NAD+; NAD; Nicotinamide adenine dinucleotide; ...</td>\n",
       "    </tr>\n",
       "    <tr>\n",
       "      <th>3</th>\n",
       "      <td>cpd:C00004</td>\n",
       "      <td>NADH; DPNH; Reduced nicotinamide adenine dinuc...</td>\n",
       "    </tr>\n",
       "    <tr>\n",
       "      <th>4</th>\n",
       "      <td>cpd:C00005</td>\n",
       "      <td>NADPH; TPNH; Reduced nicotinamide adenine dinu...</td>\n",
       "    </tr>\n",
       "  </tbody>\n",
       "</table>\n",
       "</div>"
      ],
      "text/plain": [
       "   compoundId                                       compoundDesc\n",
       "0  cpd:C00001                                         H2O; Water\n",
       "1  cpd:C00002                     ATP; Adenosine 5'-triphosphate\n",
       "2  cpd:C00003  NAD+; NAD; Nicotinamide adenine dinucleotide; ...\n",
       "3  cpd:C00004  NADH; DPNH; Reduced nicotinamide adenine dinuc...\n",
       "4  cpd:C00005  NADPH; TPNH; Reduced nicotinamide adenine dinu..."
      ]
     },
     "execution_count": 193,
     "metadata": {},
     "output_type": "execute_result"
    }
   ],
   "source": [
    "# Compound\n",
    "cols = ['compoundId','compoundDesc']\n",
    "compoundDF = parseResponse(cols, 'list','cpd')\n",
    "print('Compounds Count: '+str(len(compoundDF)))\n",
    "compoundDF.to_csv('data/compoundDF.tsv', sep='\\t', index=False)\n",
    "compoundDF.head()"
   ]
  },
  {
   "cell_type": "code",
   "execution_count": 180,
   "metadata": {},
   "outputs": [
    {
     "name": "stdout",
     "output_type": "stream",
     "text": [
      "Reactions Count:11467\n"
     ]
    },
    {
     "data": {
      "text/html": [
       "<div>\n",
       "<style scoped>\n",
       "    .dataframe tbody tr th:only-of-type {\n",
       "        vertical-align: middle;\n",
       "    }\n",
       "\n",
       "    .dataframe tbody tr th {\n",
       "        vertical-align: top;\n",
       "    }\n",
       "\n",
       "    .dataframe thead th {\n",
       "        text-align: right;\n",
       "    }\n",
       "</style>\n",
       "<table border=\"1\" class=\"dataframe\">\n",
       "  <thead>\n",
       "    <tr style=\"text-align: right;\">\n",
       "      <th></th>\n",
       "      <th>reactionId</th>\n",
       "      <th>reactionDesc</th>\n",
       "    </tr>\n",
       "  </thead>\n",
       "  <tbody>\n",
       "    <tr>\n",
       "      <th>0</th>\n",
       "      <td>rn:R00001</td>\n",
       "      <td>polyphosphate polyphosphohydrolase; Polyphosph...</td>\n",
       "    </tr>\n",
       "    <tr>\n",
       "      <th>1</th>\n",
       "      <td>rn:R00002</td>\n",
       "      <td>Reduced ferredoxin:dinitrogen oxidoreductase (...</td>\n",
       "    </tr>\n",
       "    <tr>\n",
       "      <th>2</th>\n",
       "      <td>rn:R00004</td>\n",
       "      <td>diphosphate phosphohydrolase; pyrophosphate ph...</td>\n",
       "    </tr>\n",
       "    <tr>\n",
       "      <th>3</th>\n",
       "      <td>rn:R00005</td>\n",
       "      <td>urea-1-carboxylate amidohydrolase; Urea-1-carb...</td>\n",
       "    </tr>\n",
       "    <tr>\n",
       "      <th>4</th>\n",
       "      <td>rn:R00006</td>\n",
       "      <td>pyruvate:pyruvate acetaldehydetransferase (dec...</td>\n",
       "    </tr>\n",
       "  </tbody>\n",
       "</table>\n",
       "</div>"
      ],
      "text/plain": [
       "  reactionId                                       reactionDesc\n",
       "0  rn:R00001  polyphosphate polyphosphohydrolase; Polyphosph...\n",
       "1  rn:R00002  Reduced ferredoxin:dinitrogen oxidoreductase (...\n",
       "2  rn:R00004  diphosphate phosphohydrolase; pyrophosphate ph...\n",
       "3  rn:R00005  urea-1-carboxylate amidohydrolase; Urea-1-carb...\n",
       "4  rn:R00006  pyruvate:pyruvate acetaldehydetransferase (dec..."
      ]
     },
     "execution_count": 180,
     "metadata": {},
     "output_type": "execute_result"
    }
   ],
   "source": [
    "# Reaction\n",
    "cols = ['reactionId','reactionDesc']\n",
    "reactionDF = parseResponse(cols, 'list','rn')\n",
    "print('Reactions Count:' + str(len(reactionDF)))\n",
    "reactionDF.to_csv('data/reactionDF.tsv', sep='\\t', index=False)\n",
    "reactionDF.head()"
   ]
  },
  {
   "cell_type": "markdown",
   "metadata": {},
   "source": [
    "## LINK"
   ]
  },
  {
   "cell_type": "code",
   "execution_count": 187,
   "metadata": {},
   "outputs": [
    {
     "name": "stdout",
     "output_type": "stream",
     "text": [
      "Reaction2Pathway Links:34896\n"
     ]
    },
    {
     "data": {
      "text/html": [
       "<div>\n",
       "<style scoped>\n",
       "    .dataframe tbody tr th:only-of-type {\n",
       "        vertical-align: middle;\n",
       "    }\n",
       "\n",
       "    .dataframe tbody tr th {\n",
       "        vertical-align: top;\n",
       "    }\n",
       "\n",
       "    .dataframe thead th {\n",
       "        text-align: right;\n",
       "    }\n",
       "</style>\n",
       "<table border=\"1\" class=\"dataframe\">\n",
       "  <thead>\n",
       "    <tr style=\"text-align: right;\">\n",
       "      <th></th>\n",
       "      <th>reactionId</th>\n",
       "      <th>pathwayId</th>\n",
       "    </tr>\n",
       "  </thead>\n",
       "  <tbody>\n",
       "    <tr>\n",
       "      <th>0</th>\n",
       "      <td>rn:R00014</td>\n",
       "      <td>path:map00010</td>\n",
       "    </tr>\n",
       "    <tr>\n",
       "      <th>1</th>\n",
       "      <td>rn:R00014</td>\n",
       "      <td>path:rn00010</td>\n",
       "    </tr>\n",
       "    <tr>\n",
       "      <th>2</th>\n",
       "      <td>rn:R00199</td>\n",
       "      <td>path:map00010</td>\n",
       "    </tr>\n",
       "    <tr>\n",
       "      <th>3</th>\n",
       "      <td>rn:R00199</td>\n",
       "      <td>path:rn00010</td>\n",
       "    </tr>\n",
       "    <tr>\n",
       "      <th>4</th>\n",
       "      <td>rn:R00200</td>\n",
       "      <td>path:map00010</td>\n",
       "    </tr>\n",
       "  </tbody>\n",
       "</table>\n",
       "</div>"
      ],
      "text/plain": [
       "  reactionId      pathwayId\n",
       "0  rn:R00014  path:map00010\n",
       "1  rn:R00014   path:rn00010\n",
       "2  rn:R00199  path:map00010\n",
       "3  rn:R00199   path:rn00010\n",
       "4  rn:R00200  path:map00010"
      ]
     },
     "execution_count": 187,
     "metadata": {},
     "output_type": "execute_result"
    }
   ],
   "source": [
    "# Reaction -> Pathway\n",
    "\n",
    "cols = ['reactionId', 'pathwayId']\n",
    "reactionPathwayLinkDF = parseResponse(cols, 'link','pathway','rn')\n",
    "print('Reaction2Pathway Links:' + str(len(reactionPathwayLinkDF)))\n",
    "reactionPathwayLinkDF.to_csv('data/reactionPathwayLinkDF.tsv', sep='\\t', index=False)\n",
    "reactionPathwayLinkDF.head()"
   ]
  },
  {
   "cell_type": "code",
   "execution_count": 188,
   "metadata": {},
   "outputs": [
    {
     "name": "stdout",
     "output_type": "stream",
     "text": [
      "Compound2Reaction Links:48392\n"
     ]
    },
    {
     "data": {
      "text/html": [
       "<div>\n",
       "<style scoped>\n",
       "    .dataframe tbody tr th:only-of-type {\n",
       "        vertical-align: middle;\n",
       "    }\n",
       "\n",
       "    .dataframe tbody tr th {\n",
       "        vertical-align: top;\n",
       "    }\n",
       "\n",
       "    .dataframe thead th {\n",
       "        text-align: right;\n",
       "    }\n",
       "</style>\n",
       "<table border=\"1\" class=\"dataframe\">\n",
       "  <thead>\n",
       "    <tr style=\"text-align: right;\">\n",
       "      <th></th>\n",
       "      <th>compoundId</th>\n",
       "      <th>reactionId</th>\n",
       "    </tr>\n",
       "  </thead>\n",
       "  <tbody>\n",
       "    <tr>\n",
       "      <th>0</th>\n",
       "      <td>cpd:C00001</td>\n",
       "      <td>rn:R00001</td>\n",
       "    </tr>\n",
       "    <tr>\n",
       "      <th>1</th>\n",
       "      <td>cpd:C00001</td>\n",
       "      <td>rn:R00002</td>\n",
       "    </tr>\n",
       "    <tr>\n",
       "      <th>2</th>\n",
       "      <td>cpd:C00001</td>\n",
       "      <td>rn:R00004</td>\n",
       "    </tr>\n",
       "    <tr>\n",
       "      <th>3</th>\n",
       "      <td>cpd:C00001</td>\n",
       "      <td>rn:R00005</td>\n",
       "    </tr>\n",
       "    <tr>\n",
       "      <th>4</th>\n",
       "      <td>cpd:C00001</td>\n",
       "      <td>rn:R00009</td>\n",
       "    </tr>\n",
       "  </tbody>\n",
       "</table>\n",
       "</div>"
      ],
      "text/plain": [
       "   compoundId reactionId\n",
       "0  cpd:C00001  rn:R00001\n",
       "1  cpd:C00001  rn:R00002\n",
       "2  cpd:C00001  rn:R00004\n",
       "3  cpd:C00001  rn:R00005\n",
       "4  cpd:C00001  rn:R00009"
      ]
     },
     "execution_count": 188,
     "metadata": {},
     "output_type": "execute_result"
    }
   ],
   "source": [
    "# Compound <-> Reaction\n",
    "\n",
    "cols = ['compoundId', 'reactionId']\n",
    "compoundReactionLinkDF = parseResponse(cols, 'link','rn', 'cpd')\n",
    "print('Compound2Reaction Links:' + str(len(compoundReactionLinkDF)))\n",
    "compoundReactionLinkDF.to_csv('data/compoundReactionLinkDF.tsv', sep='\\t', index=False)\n",
    "compoundReactionLinkDF.head()"
   ]
  },
  {
   "cell_type": "code",
   "execution_count": 189,
   "metadata": {},
   "outputs": [
    {
     "name": "stdout",
     "output_type": "stream",
     "text": [
      "Compound2Pathway Links:17355\n"
     ]
    },
    {
     "data": {
      "text/html": [
       "<div>\n",
       "<style scoped>\n",
       "    .dataframe tbody tr th:only-of-type {\n",
       "        vertical-align: middle;\n",
       "    }\n",
       "\n",
       "    .dataframe tbody tr th {\n",
       "        vertical-align: top;\n",
       "    }\n",
       "\n",
       "    .dataframe thead th {\n",
       "        text-align: right;\n",
       "    }\n",
       "</style>\n",
       "<table border=\"1\" class=\"dataframe\">\n",
       "  <thead>\n",
       "    <tr style=\"text-align: right;\">\n",
       "      <th></th>\n",
       "      <th>compoundId</th>\n",
       "      <th>pathwayId</th>\n",
       "    </tr>\n",
       "  </thead>\n",
       "  <tbody>\n",
       "    <tr>\n",
       "      <th>0</th>\n",
       "      <td>cpd:C00022</td>\n",
       "      <td>path:map00010</td>\n",
       "    </tr>\n",
       "    <tr>\n",
       "      <th>1</th>\n",
       "      <td>cpd:C00024</td>\n",
       "      <td>path:map00010</td>\n",
       "    </tr>\n",
       "    <tr>\n",
       "      <th>2</th>\n",
       "      <td>cpd:C00031</td>\n",
       "      <td>path:map00010</td>\n",
       "    </tr>\n",
       "    <tr>\n",
       "      <th>3</th>\n",
       "      <td>cpd:C00033</td>\n",
       "      <td>path:map00010</td>\n",
       "    </tr>\n",
       "    <tr>\n",
       "      <th>4</th>\n",
       "      <td>cpd:C00036</td>\n",
       "      <td>path:map00010</td>\n",
       "    </tr>\n",
       "  </tbody>\n",
       "</table>\n",
       "</div>"
      ],
      "text/plain": [
       "   compoundId      pathwayId\n",
       "0  cpd:C00022  path:map00010\n",
       "1  cpd:C00024  path:map00010\n",
       "2  cpd:C00031  path:map00010\n",
       "3  cpd:C00033  path:map00010\n",
       "4  cpd:C00036  path:map00010"
      ]
     },
     "execution_count": 189,
     "metadata": {},
     "output_type": "execute_result"
    }
   ],
   "source": [
    "# Compound <-> Pathway\n",
    "\n",
    "cols = ['compoundId', 'pathwayId']\n",
    "compoundPathwayLinkDF = parseResponse(cols, 'link','pathway', 'cpd')\n",
    "print('Compound2Pathway Links:' + str(len(compoundPathwayLinkDF)))\n",
    "compoundPathwayLinkDF.to_csv('data/compoundPathwayLinkDF.tsv', sep='\\t', index=False)\n",
    "compoundPathwayLinkDF.head()"
   ]
  },
  {
   "cell_type": "code",
   "execution_count": null,
   "metadata": {},
   "outputs": [],
   "source": []
  }
 ],
 "metadata": {
  "kernelspec": {
   "display_name": "Python 3",
   "language": "python",
   "name": "python3"
  },
  "language_info": {
   "codemirror_mode": {
    "name": "ipython",
    "version": 3
   },
   "file_extension": ".py",
   "mimetype": "text/x-python",
   "name": "python",
   "nbconvert_exporter": "python",
   "pygments_lexer": "ipython3",
   "version": "3.7.9"
  }
 },
 "nbformat": 4,
 "nbformat_minor": 4
}
