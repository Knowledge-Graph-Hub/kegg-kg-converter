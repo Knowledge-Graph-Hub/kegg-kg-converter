{
 "cells": [
  {
   "cell_type": "markdown",
   "metadata": {},
   "source": [
    "## Using Bioservices\n",
    "\n",
    "https://github.com/cokelaer/bioservices\n",
    "\n",
    "Installations:\n",
    "* pip install bioservices "
   ]
  },
  {
   "cell_type": "code",
   "execution_count": 40,
   "metadata": {},
   "outputs": [],
   "source": [
    "%reset -f"
   ]
  },
  {
   "cell_type": "code",
   "execution_count": 41,
   "metadata": {},
   "outputs": [],
   "source": [
    "import pandas as pd\n",
    "import io"
   ]
  },
  {
   "cell_type": "code",
   "execution_count": 42,
   "metadata": {},
   "outputs": [],
   "source": [
    "from bioservices import KEGG\n",
    "k = KEGG(verbose=True)"
   ]
  },
  {
   "cell_type": "code",
   "execution_count": 49,
   "metadata": {},
   "outputs": [],
   "source": [
    "def dataFramifyStr(string, colNames):\n",
    "    stringList = io.StringIO(k.list(string))\n",
    "    df = pd.read_csv(stringList, sep='\\t', header=None) \n",
    "    df.columns = colNames\n",
    "    print('Number of entries: '+ str(len(df)))\n",
    "    return df"
   ]
  },
  {
   "cell_type": "code",
   "execution_count": 56,
   "metadata": {},
   "outputs": [],
   "source": [
    "orgCols = ['taxID', 'orgCode', 'orgName', 'ordDesc']\n",
    "pathCols = ['pathID', 'pathDesc']\n",
    "reactionCols = ['rnID', 'rnDesc']\n",
    "compoundCols = ['cpdID', 'cpdDesc']"
   ]
  },
  {
   "cell_type": "code",
   "execution_count": 57,
   "metadata": {},
   "outputs": [
    {
     "name": "stdout",
     "output_type": "stream",
     "text": [
      "Number of entries: 6957\n"
     ]
    },
    {
     "data": {
      "text/html": [
       "<div>\n",
       "<style scoped>\n",
       "    .dataframe tbody tr th:only-of-type {\n",
       "        vertical-align: middle;\n",
       "    }\n",
       "\n",
       "    .dataframe tbody tr th {\n",
       "        vertical-align: top;\n",
       "    }\n",
       "\n",
       "    .dataframe thead th {\n",
       "        text-align: right;\n",
       "    }\n",
       "</style>\n",
       "<table border=\"1\" class=\"dataframe\">\n",
       "  <thead>\n",
       "    <tr style=\"text-align: right;\">\n",
       "      <th></th>\n",
       "      <th>taxID</th>\n",
       "      <th>orgCode</th>\n",
       "      <th>orgName</th>\n",
       "      <th>ordDesc</th>\n",
       "    </tr>\n",
       "  </thead>\n",
       "  <tbody>\n",
       "    <tr>\n",
       "      <th>0</th>\n",
       "      <td>T01001</td>\n",
       "      <td>hsa</td>\n",
       "      <td>Homo sapiens (human)</td>\n",
       "      <td>Eukaryotes;Animals;Vertebrates;Mammals</td>\n",
       "    </tr>\n",
       "    <tr>\n",
       "      <th>1</th>\n",
       "      <td>T01005</td>\n",
       "      <td>ptr</td>\n",
       "      <td>Pan troglodytes (chimpanzee)</td>\n",
       "      <td>Eukaryotes;Animals;Vertebrates;Mammals</td>\n",
       "    </tr>\n",
       "    <tr>\n",
       "      <th>2</th>\n",
       "      <td>T02283</td>\n",
       "      <td>pps</td>\n",
       "      <td>Pan paniscus (bonobo)</td>\n",
       "      <td>Eukaryotes;Animals;Vertebrates;Mammals</td>\n",
       "    </tr>\n",
       "    <tr>\n",
       "      <th>3</th>\n",
       "      <td>T02442</td>\n",
       "      <td>ggo</td>\n",
       "      <td>Gorilla gorilla gorilla (western lowland gorilla)</td>\n",
       "      <td>Eukaryotes;Animals;Vertebrates;Mammals</td>\n",
       "    </tr>\n",
       "    <tr>\n",
       "      <th>4</th>\n",
       "      <td>T01416</td>\n",
       "      <td>pon</td>\n",
       "      <td>Pongo abelii (Sumatran orangutan)</td>\n",
       "      <td>Eukaryotes;Animals;Vertebrates;Mammals</td>\n",
       "    </tr>\n",
       "  </tbody>\n",
       "</table>\n",
       "</div>"
      ],
      "text/plain": [
       "    taxID orgCode                                            orgName  \\\n",
       "0  T01001     hsa                               Homo sapiens (human)   \n",
       "1  T01005     ptr                       Pan troglodytes (chimpanzee)   \n",
       "2  T02283     pps                              Pan paniscus (bonobo)   \n",
       "3  T02442     ggo  Gorilla gorilla gorilla (western lowland gorilla)   \n",
       "4  T01416     pon                  Pongo abelii (Sumatran orangutan)   \n",
       "\n",
       "                                  ordDesc  \n",
       "0  Eukaryotes;Animals;Vertebrates;Mammals  \n",
       "1  Eukaryotes;Animals;Vertebrates;Mammals  \n",
       "2  Eukaryotes;Animals;Vertebrates;Mammals  \n",
       "3  Eukaryotes;Animals;Vertebrates;Mammals  \n",
       "4  Eukaryotes;Animals;Vertebrates;Mammals  "
      ]
     },
     "execution_count": 57,
     "metadata": {},
     "output_type": "execute_result"
    }
   ],
   "source": [
    "orgList = dataFramifyStr('organism',orgCols)\n",
    "orgList.head()"
   ]
  },
  {
   "cell_type": "code",
   "execution_count": 51,
   "metadata": {},
   "outputs": [
    {
     "name": "stdout",
     "output_type": "stream",
     "text": [
      "Number of entries: 541\n"
     ]
    },
    {
     "data": {
      "text/html": [
       "<div>\n",
       "<style scoped>\n",
       "    .dataframe tbody tr th:only-of-type {\n",
       "        vertical-align: middle;\n",
       "    }\n",
       "\n",
       "    .dataframe tbody tr th {\n",
       "        vertical-align: top;\n",
       "    }\n",
       "\n",
       "    .dataframe thead th {\n",
       "        text-align: right;\n",
       "    }\n",
       "</style>\n",
       "<table border=\"1\" class=\"dataframe\">\n",
       "  <thead>\n",
       "    <tr style=\"text-align: right;\">\n",
       "      <th></th>\n",
       "      <th>pathID</th>\n",
       "      <th>pathDesc</th>\n",
       "    </tr>\n",
       "  </thead>\n",
       "  <tbody>\n",
       "    <tr>\n",
       "      <th>0</th>\n",
       "      <td>path:map00010</td>\n",
       "      <td>Glycolysis / Gluconeogenesis</td>\n",
       "    </tr>\n",
       "    <tr>\n",
       "      <th>1</th>\n",
       "      <td>path:map00020</td>\n",
       "      <td>Citrate cycle (TCA cycle)</td>\n",
       "    </tr>\n",
       "    <tr>\n",
       "      <th>2</th>\n",
       "      <td>path:map00030</td>\n",
       "      <td>Pentose phosphate pathway</td>\n",
       "    </tr>\n",
       "    <tr>\n",
       "      <th>3</th>\n",
       "      <td>path:map00040</td>\n",
       "      <td>Pentose and glucuronate interconversions</td>\n",
       "    </tr>\n",
       "    <tr>\n",
       "      <th>4</th>\n",
       "      <td>path:map00051</td>\n",
       "      <td>Fructose and mannose metabolism</td>\n",
       "    </tr>\n",
       "  </tbody>\n",
       "</table>\n",
       "</div>"
      ],
      "text/plain": [
       "          pathID                                  pathDesc\n",
       "0  path:map00010              Glycolysis / Gluconeogenesis\n",
       "1  path:map00020                 Citrate cycle (TCA cycle)\n",
       "2  path:map00030                 Pentose phosphate pathway\n",
       "3  path:map00040  Pentose and glucuronate interconversions\n",
       "4  path:map00051           Fructose and mannose metabolism"
      ]
     },
     "execution_count": 51,
     "metadata": {},
     "output_type": "execute_result"
    }
   ],
   "source": [
    "pathList = dataFramifyStr('pathway', pathCols)\n",
    "pathList.head()"
   ]
  },
  {
   "cell_type": "code",
   "execution_count": 53,
   "metadata": {},
   "outputs": [
    {
     "name": "stdout",
     "output_type": "stream",
     "text": [
      "Number of entries: 11474\n"
     ]
    },
    {
     "data": {
      "text/html": [
       "<div>\n",
       "<style scoped>\n",
       "    .dataframe tbody tr th:only-of-type {\n",
       "        vertical-align: middle;\n",
       "    }\n",
       "\n",
       "    .dataframe tbody tr th {\n",
       "        vertical-align: top;\n",
       "    }\n",
       "\n",
       "    .dataframe thead th {\n",
       "        text-align: right;\n",
       "    }\n",
       "</style>\n",
       "<table border=\"1\" class=\"dataframe\">\n",
       "  <thead>\n",
       "    <tr style=\"text-align: right;\">\n",
       "      <th></th>\n",
       "      <th>rnID</th>\n",
       "      <th>rnDesc</th>\n",
       "    </tr>\n",
       "  </thead>\n",
       "  <tbody>\n",
       "    <tr>\n",
       "      <th>0</th>\n",
       "      <td>rn:R00001</td>\n",
       "      <td>polyphosphate polyphosphohydrolase; Polyphosph...</td>\n",
       "    </tr>\n",
       "    <tr>\n",
       "      <th>1</th>\n",
       "      <td>rn:R00002</td>\n",
       "      <td>Reduced ferredoxin:dinitrogen oxidoreductase (...</td>\n",
       "    </tr>\n",
       "    <tr>\n",
       "      <th>2</th>\n",
       "      <td>rn:R00004</td>\n",
       "      <td>diphosphate phosphohydrolase; pyrophosphate ph...</td>\n",
       "    </tr>\n",
       "    <tr>\n",
       "      <th>3</th>\n",
       "      <td>rn:R00005</td>\n",
       "      <td>urea-1-carboxylate amidohydrolase; Urea-1-carb...</td>\n",
       "    </tr>\n",
       "    <tr>\n",
       "      <th>4</th>\n",
       "      <td>rn:R00006</td>\n",
       "      <td>pyruvate:pyruvate acetaldehydetransferase (dec...</td>\n",
       "    </tr>\n",
       "  </tbody>\n",
       "</table>\n",
       "</div>"
      ],
      "text/plain": [
       "        rnID                                             rnDesc\n",
       "0  rn:R00001  polyphosphate polyphosphohydrolase; Polyphosph...\n",
       "1  rn:R00002  Reduced ferredoxin:dinitrogen oxidoreductase (...\n",
       "2  rn:R00004  diphosphate phosphohydrolase; pyrophosphate ph...\n",
       "3  rn:R00005  urea-1-carboxylate amidohydrolase; Urea-1-carb...\n",
       "4  rn:R00006  pyruvate:pyruvate acetaldehydetransferase (dec..."
      ]
     },
     "execution_count": 53,
     "metadata": {},
     "output_type": "execute_result"
    }
   ],
   "source": [
    "reactionList = dataFramifyStr('reaction', reactionCols)\n",
    "reactionList.head()"
   ]
  },
  {
   "cell_type": "code",
   "execution_count": 55,
   "metadata": {},
   "outputs": [
    {
     "name": "stdout",
     "output_type": "stream",
     "text": [
      "Number of entries: 18756\n"
     ]
    },
    {
     "data": {
      "text/html": [
       "<div>\n",
       "<style scoped>\n",
       "    .dataframe tbody tr th:only-of-type {\n",
       "        vertical-align: middle;\n",
       "    }\n",
       "\n",
       "    .dataframe tbody tr th {\n",
       "        vertical-align: top;\n",
       "    }\n",
       "\n",
       "    .dataframe thead th {\n",
       "        text-align: right;\n",
       "    }\n",
       "</style>\n",
       "<table border=\"1\" class=\"dataframe\">\n",
       "  <thead>\n",
       "    <tr style=\"text-align: right;\">\n",
       "      <th></th>\n",
       "      <th>cpdID</th>\n",
       "      <th>cpdDesc</th>\n",
       "    </tr>\n",
       "  </thead>\n",
       "  <tbody>\n",
       "    <tr>\n",
       "      <th>0</th>\n",
       "      <td>cpd:C00001</td>\n",
       "      <td>H2O; Water</td>\n",
       "    </tr>\n",
       "    <tr>\n",
       "      <th>1</th>\n",
       "      <td>cpd:C00002</td>\n",
       "      <td>ATP; Adenosine 5'-triphosphate</td>\n",
       "    </tr>\n",
       "    <tr>\n",
       "      <th>2</th>\n",
       "      <td>cpd:C00003</td>\n",
       "      <td>NAD+; NAD; Nicotinamide adenine dinucleotide; ...</td>\n",
       "    </tr>\n",
       "    <tr>\n",
       "      <th>3</th>\n",
       "      <td>cpd:C00004</td>\n",
       "      <td>NADH; DPNH; Reduced nicotinamide adenine dinuc...</td>\n",
       "    </tr>\n",
       "    <tr>\n",
       "      <th>4</th>\n",
       "      <td>cpd:C00005</td>\n",
       "      <td>NADPH; TPNH; Reduced nicotinamide adenine dinu...</td>\n",
       "    </tr>\n",
       "  </tbody>\n",
       "</table>\n",
       "</div>"
      ],
      "text/plain": [
       "        cpdID                                            cpdDesc\n",
       "0  cpd:C00001                                         H2O; Water\n",
       "1  cpd:C00002                     ATP; Adenosine 5'-triphosphate\n",
       "2  cpd:C00003  NAD+; NAD; Nicotinamide adenine dinucleotide; ...\n",
       "3  cpd:C00004  NADH; DPNH; Reduced nicotinamide adenine dinuc...\n",
       "4  cpd:C00005  NADPH; TPNH; Reduced nicotinamide adenine dinu..."
      ]
     },
     "execution_count": 55,
     "metadata": {},
     "output_type": "execute_result"
    }
   ],
   "source": [
    "compoundList = dataFramifyStr('compound',compoundCols)\n",
    "compoundList.head()"
   ]
  },
  {
   "cell_type": "code",
   "execution_count": 59,
   "metadata": {},
   "outputs": [],
   "source": [
    "getString = k.get('cpd:C00001+rn:R00005+path:map00220')"
   ]
  },
  {
   "cell_type": "code",
   "execution_count": null,
   "metadata": {},
   "outputs": [],
   "source": []
  },
  {
   "cell_type": "code",
   "execution_count": null,
   "metadata": {},
   "outputs": [],
   "source": []
  }
 ],
 "metadata": {
  "kernelspec": {
   "display_name": "Python 3",
   "language": "python",
   "name": "python3"
  },
  "language_info": {
   "codemirror_mode": {
    "name": "ipython",
    "version": 3
   },
   "file_extension": ".py",
   "mimetype": "text/x-python",
   "name": "python",
   "nbconvert_exporter": "python",
   "pygments_lexer": "ipython3",
   "version": "3.7.9"
  }
 },
 "nbformat": 4,
 "nbformat_minor": 4
}
